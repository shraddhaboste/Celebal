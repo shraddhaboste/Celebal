{
  "nbformat": 4,
  "nbformat_minor": 0,
  "metadata": {
    "colab": {
      "name": "Week1 Assignment.ipynb",
      "provenance": [],
      "authorship_tag": "ABX9TyMdJNuWclNCrBXm0GrlE7Jk",
      "include_colab_link": true
    },
    "kernelspec": {
      "name": "python3",
      "display_name": "Python 3"
    },
    "language_info": {
      "name": "python"
    }
  },
  "cells": [
    {
      "cell_type": "markdown",
      "metadata": {
        "id": "view-in-github",
        "colab_type": "text"
      },
      "source": [
        "<a href=\"https://colab.research.google.com/github/shraddhaboste/Celebal/blob/main/Week1_Assignment.ipynb\" target=\"_parent\"><img src=\"https://colab.research.google.com/assets/colab-badge.svg\" alt=\"Open In Colab\"/></a>"
      ]
    },
    {
      "cell_type": "code",
      "execution_count": null,
      "metadata": {
        "id": "OkXl3KXNzHyr"
      },
      "outputs": [],
      "source": [
        ""
      ]
    },
    {
      "cell_type": "markdown",
      "source": [
        "Q.1) The included code stub will read an integer,n, from STDIN.\n",
        "Without using any string methods, try to print the following:\n",
        "123...n.\n",
        "Note that \"...\" represents the consecutive values in between."
      ],
      "metadata": {
        "id": "qIc_Ln18zIiI"
      }
    },
    {
      "cell_type": "code",
      "source": [
        "from __future__ import print_function\n",
        "\n",
        "if __name__ == '__main__':\n",
        "    n = int(raw_input())\n",
        "\n",
        "for i in range(n):\n",
        "    print(i+1,end=\"\")"
      ],
      "metadata": {
        "id": "3CGW9b5pzvtL"
      },
      "execution_count": null,
      "outputs": []
    },
    {
      "cell_type": "markdown",
      "source": [
        "Q.2) The provided code stub reads and integer,n, from STDIN. For all non-negative integers i<n, print i^2."
      ],
      "metadata": {
        "id": "P3xMmckQz6rg"
      }
    },
    {
      "cell_type": "code",
      "source": [
        "if __name__ == '__main__':\n",
        "    n = int(raw_input())\n",
        "    for i in range(n):\n",
        "        print(i*i)\n"
      ],
      "metadata": {
        "id": "zoVHgV800gfW"
      },
      "execution_count": null,
      "outputs": []
    },
    {
      "cell_type": "markdown",
      "source": [
        "Q.3) The provided code stub reads two integers,a and ,b from STDIN.\n",
        "\n",
        "Add logic to print two lines. The first line should contain the result of integer division, a //b . The second line should contain the result of float division,  a/b ."
      ],
      "metadata": {
        "id": "97IyWAaZ0qJj"
      }
    },
    {
      "cell_type": "code",
      "source": [
        "from __future__ import division\n",
        "\n",
        "if __name__ == '__main__':\n",
        "    a = int(raw_input())\n",
        "    b = int(raw_input())\n",
        "\n",
        "c=a//b\n",
        "d=a/b\n",
        "print(\"%d\\n%f\"%(c,d))\n"
      ],
      "metadata": {
        "id": "AhPjRqxh07_C"
      },
      "execution_count": null,
      "outputs": []
    },
    {
      "cell_type": "markdown",
      "source": [
        "Q.4)The provided code stub reads two integers from STDIN, a and b. Add code to print three lines where:\n",
        "\n",
        "1.The first line contains the sum of the two numbers.\n",
        "2.The second line contains the difference of the two numbers (first - second).\n",
        "3.The third line contains the product of the two numbers."
      ],
      "metadata": {
        "id": "m25qRpho1CIc"
      }
    },
    {
      "cell_type": "code",
      "source": [
        "if __name__ == '__main__':\n",
        "    a = int(raw_input())\n",
        "    b = int(raw_input())\n",
        "    c=a+b\n",
        "    d=a-b\n",
        "    e=a*b\n",
        "    print(\"%d\\n%d\\n%d\\n\"%(c,d,e))\n"
      ],
      "metadata": {
        "id": "HvaN0a_m1ZC7"
      },
      "execution_count": null,
      "outputs": []
    },
    {
      "cell_type": "markdown",
      "source": [
        "Q.5) Given an integer,n , perform the following conditional actions:\n",
        "\n",
        "If n is odd, print Weird\n",
        "If n is even and in the inclusive range of 2 to 5, print Not Weird\n",
        "If n is even and in the inclusive range of 6 to 20, print Weird\n",
        "If n is even and greater than ,20 print Not Weird"
      ],
      "metadata": {
        "id": "8Tuihcf_1hEX"
      }
    },
    {
      "cell_type": "code",
      "source": [
        "import sys\n",
        "n = int(raw_input().strip())\n",
        "if n%2!=0:\n",
        "    print(\"Weird\")\n",
        "else:\n",
        "    if n>=2 and n<=5:\n",
        "        print(\"Not Weird\")\n",
        "    elif n>=6 and n<=20:\n",
        "        print(\"Weird\")\n",
        "    elif n>20:\n",
        "        print(\"Not Weird\")    \n",
        "    "
      ],
      "metadata": {
        "id": "iCbQaQ6T2KUY"
      },
      "execution_count": null,
      "outputs": []
    },
    {
      "cell_type": "markdown",
      "source": [
        "Q.6) Given a year, determine whether it is a leap year. If it is a leap year, return the Boolean True, otherwise return False.\n",
        "\n",
        "Note that the code stub provided reads from STDIN and passes arguments to the is_leap function. It is only necessary to complete the is_leap function.\n",
        "\n"
      ],
      "metadata": {
        "id": "boe10r1Q2L-7"
      }
    },
    {
      "cell_type": "code",
      "source": [
        "def is_leap(year):\n",
        "    leap = False\n",
        "    \n",
        "    # Write your logic here\n",
        "    if year % 400 == 0:\n",
        "        leap = True\n",
        "    elif year % 100 == 0:\n",
        "        leap = False\n",
        "    elif year % 4 == 0:\n",
        "        leap = True\n",
        "    \n",
        "    return leap\n",
        "year = int(raw_input())\n",
        "print is_leap(year)"
      ],
      "metadata": {
        "id": "XuqCOwIs2e81"
      },
      "execution_count": null,
      "outputs": []
    },
    {
      "cell_type": "markdown",
      "source": [
        "Q.7) Let's learn about list comprehensions! You are given three integers x,y and z representing the dimensions of a cuboid along with an integer . Print a list of all possible coordinates given by(i,j,k)  on a 3D grid where the sum of i+j+k is not equal to n ."
      ],
      "metadata": {
        "id": "H90lQQEI2m6q"
      }
    },
    {
      "cell_type": "code",
      "source": [
        "if __name__ == '__main__':\n",
        "    x = int(raw_input())\n",
        "    y = int(raw_input())\n",
        "    z = int(raw_input())\n",
        "    n = int(raw_input())\n",
        "    ans=[[i,j,k] for i in range(x+1) for j in range(y+1) for k in range(z+1) if i+j+k!=n]\n",
        "    print ans\n"
      ],
      "metadata": {
        "id": "01kFS1W-3K3K"
      },
      "execution_count": null,
      "outputs": []
    },
    {
      "cell_type": "markdown",
      "source": [
        "Q.8) Given the participants' score sheet for your University Sports Day, you are required to find the runner-up score. You are given n scores. Store them in a list and find the score of the runner-up."
      ],
      "metadata": {
        "id": "tZJ_FSdg3Txs"
      }
    },
    {
      "cell_type": "code",
      "source": [
        "if __name__ == '__main__':\n",
        "    n = int(raw_input())\n",
        "    arr = map(int, raw_input().split())\n",
        "    print(sorted(list(set(arr)))[-2])\n"
      ],
      "metadata": {
        "id": "fiXOpT9-3hfU"
      },
      "execution_count": null,
      "outputs": []
    },
    {
      "cell_type": "markdown",
      "source": [
        "Q.9) Given the names and grades for each student in a class of  students, store them in a nested list and print the name(s) of any student(s) having the second lowest grade."
      ],
      "metadata": {
        "id": "jJkyUApg3l59"
      }
    },
    {
      "cell_type": "code",
      "source": [
        "score_list = []; # do not forget to declare a list\n",
        "for _ in range(int(raw_input())):\n",
        "    name = raw_input()\n",
        "    score = float(raw_input())\n",
        "    \n",
        "\n",
        " \n",
        "\n",
        "    # Nested Lists in Python - Hacker Rank Solution START\n",
        "    score_list.append([name, score])\n",
        "second_highest = sorted(set([score for name, score in score_list]))[1]\n",
        "print('\\n'.join(sorted([name for name, score in score_list if score == second_highest])))\n",
        "# Nested Lists in Python - Hacker Rank Solution END\n"
      ],
      "metadata": {
        "id": "qW7Hqloi3u86"
      },
      "execution_count": null,
      "outputs": []
    },
    {
      "cell_type": "markdown",
      "source": [
        "Q.10) The provided code stub will read in a dictionary containing key/value pairs of name:[marks] for a list of students. Print the average of the marks array for the student name provided, showing 2 places after the decimal."
      ],
      "metadata": {
        "id": "HMZNZSqG31YV"
      }
    },
    {
      "cell_type": "code",
      "source": [
        "if __name__ == '__main__':\n",
        "    n = int(raw_input())\n",
        "    student_marks = {}\n",
        "    for _ in range(n):\n",
        "        line = raw_input().split()\n",
        "        name, scores = line[0], line[1:]\n",
        "        scores = map(float, scores)\n",
        "        student_marks[name] = scores\n",
        "    query_name = raw_input()\n",
        "    marks=0\n",
        "    for i in student_marks[query_name]:\n",
        "        marks=marks+i\n",
        "    avg=marks/3\n",
        "    print(\"%.2f\"%avg)"
      ],
      "metadata": {
        "id": "dGFBXd8J4DhC"
      },
      "execution_count": null,
      "outputs": []
    },
    {
      "cell_type": "markdown",
      "source": [
        "Q.11) Given an integer,n , and n space-separated integers as input, create a tuple,t , of those n integers. Then compute and print the result of hash(t)."
      ],
      "metadata": {
        "id": "i5bPtOOU4IUB"
      }
    },
    {
      "cell_type": "code",
      "source": [
        "if __name__ == '__main__':\n",
        "    n = int(raw_input())\n",
        "integer_list = map(int, raw_input().split())\n",
        "t=tuple(integer_list)\n",
        "print(hash(t))"
      ],
      "metadata": {
        "id": "oXXWAWlm6aWg"
      },
      "execution_count": null,
      "outputs": []
    },
    {
      "cell_type": "markdown",
      "source": [
        "Q.12) Consider a list (list = []). You can perform the following commands:\n",
        "\n",
        "insert i e: Insert integer  at position .\n",
        "print: Print the list.\n",
        "remove e: Delete the first occurrence of integer .\n",
        "append e: Insert integer  at the end of the list.\n",
        "sort: Sort the list.\n",
        "pop: Pop the last element from the list.\n",
        "reverse: Reverse the list.\n",
        "Initialize your list and read in the value of  followed by  lines of commands where each command will be of the  types listed above. Iterate through each command in order and perform the corresponding operation on your list."
      ],
      "metadata": {
        "id": "PtFaeHYI6iuA"
      }
    },
    {
      "cell_type": "code",
      "source": [
        "list = []\n",
        "n = int(raw_input())\n",
        "for i in range(n):\n",
        "    a = raw_input().split()\n",
        "    if len(a) == 3:\n",
        "        eval(\"list.\" + a[0] + \"(\" + a[1] + \",\" + a[2] + \")\")\n",
        "    elif len(a) == 2:\n",
        "        eval(\"list.\" + a[0] + \"(\" + a[1] + \")\")\n",
        "    elif a[0] == \"print\":\n",
        "        print list\n",
        "    else:\n",
        "        eval(\"list.\" + a[0] + \"()\")"
      ],
      "metadata": {
        "id": "48k_X4sv9CWn"
      },
      "execution_count": null,
      "outputs": []
    },
    {
      "cell_type": "markdown",
      "source": [
        "Q.13) You are given a string and your task is to swap cases. In other words, convert all lowercase letters to uppercase letters and vice versa."
      ],
      "metadata": {
        "id": "XiASfSoJ-CXg"
      }
    },
    {
      "cell_type": "code",
      "source": [
        "def swap_case(s):\n",
        "\n",
        "    # sWAP cASE in Python - HackerRank Solution START\n",
        "    Output = '';\n",
        "    for char in s:\n",
        "        if(char.isupper()==True):\n",
        "            Output += (char.lower());\n",
        "        elif(char.islower()==True):\n",
        "            Output += (char.upper());\n",
        "        else:\n",
        "            Output += char;\n",
        "    return Output;\n",
        "    # sWAP cASE in Python - HackerRank Solution END\n",
        "\n",
        "if __name__ == '__main__':\n",
        "    s = input()\n",
        "    result = swap_case(s)\n",
        "    print(result)"
      ],
      "metadata": {
        "id": "Yp3Ghfao-F9_"
      },
      "execution_count": null,
      "outputs": []
    },
    {
      "cell_type": "markdown",
      "source": [
        "Q.14) You are given a string. Split the string on a \" \" (space) delimiter and join using a - hyphen."
      ],
      "metadata": {
        "id": "2FukouCb-bLf"
      }
    },
    {
      "cell_type": "code",
      "source": [
        "def split_and_join(line):\n",
        "    a = line.split(\" \")\n",
        "    a = \"-\".join(a)\n",
        "    return a\n",
        "\n",
        "if __name__ == '__main__':\n",
        "    line = raw_input()\n",
        "    result = split_and_join(line)\n",
        "    print result"
      ],
      "metadata": {
        "id": "Crk_ssnO_foo"
      },
      "execution_count": null,
      "outputs": []
    },
    {
      "cell_type": "markdown",
      "source": [
        "Q.15) You are given the firstname and lastname of a person on two different lines. Your task is to read them and print the following:\n",
        "\n",
        "Hello firstname lastname! You just delved into python.\n",
        "\n"
      ],
      "metadata": {
        "id": "0JPYckfG_m4t"
      }
    },
    {
      "cell_type": "code",
      "source": [
        "def print_full_name(a, b):\n",
        "    print(\"Hello %s %s! You just delved into python.\"%(a,b))\n",
        "\n",
        "\n",
        "if __name__ == '__main__':\n",
        "    first_name = raw_input()\n",
        "    last_name = raw_input()\n",
        "    print_full_name(first_name, last_name)"
      ],
      "metadata": {
        "id": "g9gVjsaFAi78"
      },
      "execution_count": null,
      "outputs": []
    }
  ]
}