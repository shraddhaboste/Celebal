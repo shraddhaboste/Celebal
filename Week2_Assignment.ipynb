{
  "nbformat": 4,
  "nbformat_minor": 0,
  "metadata": {
    "colab": {
      "name": "Week2 Assignment.ipynb",
      "provenance": [],
      "authorship_tag": "ABX9TyN7urVEsDTPLtPbgeWOYgrE",
      "include_colab_link": true
    },
    "kernelspec": {
      "name": "python3",
      "display_name": "Python 3"
    },
    "language_info": {
      "name": "python"
    }
  },
  "cells": [
    {
      "cell_type": "markdown",
      "metadata": {
        "id": "view-in-github",
        "colab_type": "text"
      },
      "source": [
        "<a href=\"https://colab.research.google.com/github/shraddhaboste/Celebal/blob/main/Week2_Assignment.ipynb\" target=\"_parent\"><img src=\"https://colab.research.google.com/assets/colab-badge.svg\" alt=\"Open In Colab\"/></a>"
      ]
    },
    {
      "cell_type": "markdown",
      "source": [
        "Q.1) Given a year, determine whether it is a leap year. If it is a leap year, return the Boolean True, otherwise return False.\n",
        "\n",
        "Note that the code stub provided reads from STDIN and passes arguments to the is_leap function. It is only necessary to complete the is_leap function."
      ],
      "metadata": {
        "id": "0jSsGsHXZb7z"
      }
    },
    {
      "cell_type": "code",
      "source": [
        "def is_leap(year):\n",
        "    leap = False\n",
        "    \n",
        "    # Write your logic here\n",
        "    \n",
        "    return leap\n",
        "\n",
        "year = int(input())\n",
        "print(is_leap(year))"
      ],
      "metadata": {
        "id": "1GCX7NvYZi-a"
      },
      "execution_count": null,
      "outputs": []
    },
    {
      "cell_type": "markdown",
      "source": [
        "Q.2) Kevin and Stuart want to play the 'The Minion Game'.\n",
        "\n",
        "Game Rules\n",
        "\n",
        "Both players are given the same string, .\n",
        "Both players have to make substrings using the letters of the string .\n",
        "Stuart has to make words starting with consonants.\n",
        "Kevin has to make words starting with vowels.\n",
        "The game ends when both players have made all possible substrings.\n",
        "\n",
        "Scoring\n",
        "A player gets +1 point for each occurrence of the substring in the string S. Your task is to determine the winner of the game and their score."
      ],
      "metadata": {
        "id": "5CG_ncfcZnfy"
      }
    },
    {
      "cell_type": "code",
      "source": [
        "def minion_game(string):\n",
        "    # your code goes here\n",
        "\n",
        "if __name__ == '__main__':\n",
        "    s = input()\n",
        "    minion_game(s)"
      ],
      "metadata": {
        "id": "AxaZwC7CaBNh"
      },
      "execution_count": null,
      "outputs": []
    },
    {
      "cell_type": "markdown",
      "source": [
        "Q.3) ABC is a right triangle, 90 degree at B.\n",
        "Therefore, angle ABC=90 degree .\n",
        "\n",
        "Point M is the midpoint of hypotenuse AC.\n",
        "\n",
        "You are given the lengths AB and BC.\n",
        "Your task is to find  anlge MBC(angle zero degree , as shown in the figure) in degrees."
      ],
      "metadata": {
        "id": "KDnrwF1laGlh"
      }
    },
    {
      "cell_type": "code",
      "source": [
        "import math\n",
        "\n",
        "AB = int(input())\n",
        "BC = int(input())\n",
        "\n",
        "H = math.sqrt(AB**2 + BC**2)\n",
        "H = H/2.0\n",
        "adj = BC/2.0\n",
        "\n",
        "Output = int(round(math.degrees(math.acos(adj/H))))\n",
        "\n",
        "Output = str(Output)\n",
        "\n",
        "print(Output+\"°\")\n"
      ],
      "metadata": {
        "id": "Jf4Y3FpNbOfe"
      },
      "execution_count": null,
      "outputs": []
    },
    {
      "cell_type": "markdown",
      "source": [
        "Q.4) There is an array of n integers. There are also 2 disjoint sets, A and B , each containing m integers. You like all the integers in set A and dislike all the integers in set B. Your initial happiness is 0. For each i integer in the array, if i belongs to A, you add -1 to your happiness. If i belong to B, you add  to your happiness. Otherwise, your happiness does not change. Output your final happiness at the end."
      ],
      "metadata": {
        "id": "7iHuonTxbSp7"
      }
    },
    {
      "cell_type": "code",
      "source": [
        "io = input().split()\n",
        "m = int(io[0])\n",
        "n = int(io[1])\n",
        "\n",
        "storage = list()\n",
        "count = 0\n",
        "\n",
        "storage = list(map(int, input().strip().split()))\n",
        "\n",
        "A = set(map(int, input().strip().split()))\n",
        "B = set(map(int, input().strip().split()))\n",
        "\n",
        "for i in storage:\n",
        "    if i in A:\n",
        "        count = count+1\n",
        "    if i in B:\n",
        "        count = count-1\n",
        "\n",
        "print(count)"
      ],
      "metadata": {
        "id": "YAthDfDbcULF"
      },
      "execution_count": null,
      "outputs": []
    },
    {
      "cell_type": "markdown",
      "source": [
        "Q.5) You are given  words. Some words may repeat. For each word, output its number of occurrences. The output order should correspond with the input order of appearance of the word. See the sample input/output for clarification.\n",
        "\n"
      ],
      "metadata": {
        "id": "mQTEDhcecx1M"
      }
    },
    {
      "cell_type": "code",
      "source": [
        "n_ish = int(input())\n",
        "counter_dict = {}\n",
        "words_list = []\n",
        "\n",
        "for i in range(n_ish):\n",
        "  word = input()\n",
        "  words_list.append(word)\n",
        "  if word in counter_dict:\n",
        "    counter_dict[word] += 1\n",
        "  else:\n",
        "    counter_dict[word] = 1\n",
        "    \n",
        "print(len(counter_dict))\n",
        "print(' '.join([str(counter_dict[word]) for word in counter_dict]))\n"
      ],
      "metadata": {
        "id": "aVmgQ5XPdCak"
      },
      "execution_count": null,
      "outputs": []
    },
    {
      "cell_type": "markdown",
      "source": [
        "Q.6) In this task, we would like for you to appreciate the usefulness of the groupby() function of itertools . To read more about this function, Check this out .\n",
        "\n",
        "You are given a string S. Suppose a character 'c' occurs consecutively X times in the string. Replace these consecutive occurrences of the character 'c' with  in the string(X,c).\n",
        "\n",
        "For a better understanding of the problem, check the explanation."
      ],
      "metadata": {
        "id": "BXZ4gYEHdIe9"
      }
    },
    {
      "cell_type": "code",
      "source": [
        "from itertools import *\n",
        "\n",
        "io = input()\n",
        "for i,j in groupby(map(int,list(io))):\n",
        "    print(tuple([len(list(j)), i]) ,end = \" \")"
      ],
      "metadata": {
        "id": "krcurKnXdpA1"
      },
      "execution_count": null,
      "outputs": []
    },
    {
      "cell_type": "markdown",
      "source": [
        "Q.7) There is a horizontal row of n cubes. The length of each cube is given. You need to create a new vertical pile of cubes. The new pile should follow these directions: if cube[i] is on top of cube[j] then sideLength[j]>=sideLength.\n",
        "\n",
        "When stacking the cubes, you can only pick up either the leftmost or the rightmost cube each time. Print Yes if it is possible to stack the cubes. Otherwise, print No."
      ],
      "metadata": {
        "id": "muFX1uswdtVw"
      }
    },
    {
      "cell_type": "code",
      "source": [
        "from collections import deque\n",
        "\n",
        "N = int(input())\n",
        "\n",
        "for _ in range(N):\n",
        "    flag = True\n",
        "    input()\n",
        "    d = deque(map(int, input().strip().split()))\n",
        "    if(d[0] >= d[-1]):\n",
        "        max = d.popleft()\n",
        "    else:\n",
        "        max = d.pop()\n",
        "    while d:\n",
        "        if(len(d)==1):\n",
        "            if(d[0] <= max):\n",
        "                break\n",
        "            else:\n",
        "                flag = False\n",
        "                break\n",
        "        else:\n",
        "            if(d[0]<=max and d[-1]<=max):\n",
        "                if(d[0]>=d[-1]):\n",
        "                    max = d.popleft()\n",
        "                else:\n",
        "                    max = d.pop()\n",
        "            elif(d[0]<=max):\n",
        "                max = d.popleft()\n",
        "            elif(d[-1]<=max):\n",
        "                max = d.pop()\n",
        "            else:\n",
        "                flag = False\n",
        "                break\n",
        "    if flag:\n",
        "        print(\"Yes\")\n",
        "    else:\n",
        "        print(\"No\")"
      ],
      "metadata": {
        "id": "oHsR-ZTeeQjK"
      },
      "execution_count": null,
      "outputs": []
    },
    {
      "cell_type": "markdown",
      "source": [
        "Q.8) You are given a positive integer .\n",
        "Your task is to print a palindromic triangle of size .\n",
        "\n",
        "For example, a palindromic triangle of size  is:\n",
        "\n",
        "1\n",
        "121\n",
        "12321\n",
        "1234321\n",
        "123454321\n",
        "You can't take more than two lines. The first line (a for-statement) is already written for you.\n",
        "You have to complete the code using exactly one print statement."
      ],
      "metadata": {
        "id": "uwowpHxLeVkT"
      }
    },
    {
      "cell_type": "code",
      "source": [
        "for i in range(1,int(input())+1): \n",
        "    print (((10**i - 1)//9)**2)"
      ],
      "metadata": {
        "id": "4-d9T9aFefYP"
      },
      "execution_count": null,
      "outputs": []
    },
    {
      "cell_type": "markdown",
      "source": [
        "Q.9) The itertools module standardizes a core set of fast, memory efficient tools that are useful by themselves or in combination. Together, they form an iterator algebra making it possible to construct specialized tools succinctly and efficiently in pure Python.\n",
        "\n",
        "To read more about the functions in this module, check out their documentation here.\n",
        "\n",
        "You are given a list of N lowercase English letters. For a given integer K, you can select any K indices (assume 1-based indexing) with a uniform probability from the list.\n",
        "\n",
        "Find the probability that at least one of the K indices selected will contain the letter: 'a'.\n",
        "\n"
      ],
      "metadata": {
        "id": "4L7QXWEDeuQh"
      }
    },
    {
      "cell_type": "code",
      "source": [
        "N = int(input())\n",
        "D = input().split()\n",
        "K = int(input())\n",
        "\n",
        "\n",
        "from itertools import combinations\n",
        "\n",
        "contain = 0\n",
        "total = 0\n",
        "\n",
        "for c in combinations(D, K):\n",
        "    if \"a\" in c:\n",
        "        contain += 1\n",
        "    total += 1\n",
        "print(contain/total)\n"
      ],
      "metadata": {
        "id": "EnRMzuCTfHSP"
      },
      "execution_count": null,
      "outputs": []
    },
    {
      "cell_type": "markdown",
      "source": [
        "Q.10) You are given a positive integer N. Print a numerical triangle of height N-1 like the one below:\n",
        "\n",
        "1\n",
        "22\n",
        "333\n",
        "4444\n",
        "55555\n",
        "......\n",
        "Can you do it using only arithmetic operations, a single for loop and print statement?\n",
        "\n",
        "Use no more than two lines. The first line (the for statement) is already written for you. You have to complete the print statement."
      ],
      "metadata": {
        "id": "V8cduix3fMyJ"
      }
    },
    {
      "cell_type": "code",
      "source": [
        "for i in range(1,int(input())): \n",
        "    print(int(i * 10**i / 9))"
      ],
      "metadata": {
        "id": "NmR1AYbXfn8W"
      },
      "execution_count": null,
      "outputs": []
    },
    {
      "cell_type": "markdown",
      "source": [
        "Q.11) We have seen that lists are mutable (they can be changed), and tuples are immutable (they cannot be changed).\n",
        "\n",
        "Let's try to understand this with an example.\n",
        "\n",
        "You are given an immutable string, and you want to make changes to it.Read a given string, change the character at a given index and then print the modified string."
      ],
      "metadata": {
        "id": "aSR6Mkq-fpLT"
      }
    },
    {
      "cell_type": "code",
      "source": [
        "def mutate_string(string, position, character):\n",
        "    return\n",
        "\n",
        "if __name__ == '__main__':\n",
        "    s = input()\n",
        "    i, c = input().split()\n",
        "    s_new = mutate_string(s, int(i), c)\n",
        "    print(s_new)"
      ],
      "metadata": {
        "id": "Bd82jobShSYB"
      },
      "execution_count": null,
      "outputs": []
    },
    {
      "cell_type": "markdown",
      "source": [
        "Q.12) In this challenge, the user enters a string and a substring. You have to print the number of times that the substring occurs in the given string. String traversal will take place from left to right, not from right to left."
      ],
      "metadata": {
        "id": "Gi-clgUchXov"
      }
    },
    {
      "cell_type": "code",
      "source": [
        "def count_substring(string, sub_string):\n",
        "    return\n",
        "\n",
        "if __name__ == '__main__':\n",
        "    string = input().strip()\n",
        "    sub_string = input().strip()\n",
        "    \n",
        "    count = count_substring(string, sub_string)\n",
        "    print(count)"
      ],
      "metadata": {
        "id": "hEmAJUTqhu6i"
      },
      "execution_count": null,
      "outputs": []
    },
    {
      "cell_type": "markdown",
      "source": [
        "Q.13) You are given a string S .\n",
        "Your task is to find out if the string S contains: alphanumeric characters, alphabetical characters, digits, lowercase and uppercase characters."
      ],
      "metadata": {
        "id": "Ovyw1_x1hvwl"
      }
    },
    {
      "cell_type": "code",
      "source": [
        "S = raw_input()\n",
        "print any([char.isalnum() for char in S])\n",
        "print any([char.isalpha() for char in S])\n",
        "print any([char.isdigit() for char in S])\n",
        "print any([char.islower() for char in S])\n",
        "print any([char.isupper() for char in S])\n"
      ],
      "metadata": {
        "id": "gASuG8Z6h_XM"
      },
      "execution_count": null,
      "outputs": []
    },
    {
      "cell_type": "markdown",
      "source": [
        "Q.14) You are given a partial code that is used for generating the HackerRank Logo of variable thickness.\n",
        "Your task is to replace the blank (______) with rjust, ljust or center."
      ],
      "metadata": {
        "id": "9p7R6R3SiK0h"
      }
    },
    {
      "cell_type": "code",
      "source": [
        "def main():\n",
        "    # Replace all ______ with rjust, ljust or center. \n",
        "\n",
        "    thickness = int(input())  # This must be an odd number\n",
        "    c = 'H'\n",
        "    \n",
        "    # Top Cone\n",
        "    for i in range(thickness):\n",
        "        print((c * i).rjust(thickness - 1) + c + (c * i).ljust(thickness - 1))\n",
        "    \n",
        "    # Top Pillars\n",
        "    for i in range(thickness + 1):\n",
        "        print((c * thickness).center(thickness * 2) + (c * thickness).center(thickness * 6))\n",
        "    \n",
        "    # Middle Belt\n",
        "    for i in range((thickness + 1) // 2):\n",
        "        print((c * thickness * 5).center(thickness * 6))    \n",
        "    \n",
        "    # Bottom Pillars\n",
        "    for i in range(thickness + 1):\n",
        "        print((c * thickness).center(thickness * 2) + (c * thickness).center(thickness * 6))    \n",
        "    \n",
        "    # Bottom Cone\n",
        "    for i in range(thickness):\n",
        "        print(((c * (thickness - i - 1)).rjust(thickness) + c + (c * (thickness - i - 1)).ljust(thickness)).rjust(thickness * 6))  \n",
        "\n",
        "if __name__ == '__main__':\n",
        "    main()"
      ],
      "metadata": {
        "id": "N_oMePFIiVpm"
      },
      "execution_count": null,
      "outputs": []
    },
    {
      "cell_type": "markdown",
      "source": [
        "Q.15) You are given a string S and width W .\n",
        "Your task is to wrap the string into a paragraph of width W."
      ],
      "metadata": {
        "id": "2vk_DxOViaLU"
      }
    },
    {
      "cell_type": "code",
      "source": [
        "import textwrap\n",
        "\n",
        "def wrap(string, max_width):\n",
        "    # Text Wrap in Python - HackerRank Solution START\n",
        "    return textwrap.fill(string,max_width)\n",
        "    # Text Wrap in Python - HackerRank Solution END\n",
        "\n",
        "\n",
        "if __name__ == '__main__':\n",
        "    string, max_width = raw_input(), int(raw_input())\n",
        "    result = wrap(string, max_width)\n",
        "    print result"
      ],
      "metadata": {
        "id": "tWxIAsqKixJ3"
      },
      "execution_count": null,
      "outputs": []
    },
    {
      "cell_type": "markdown",
      "source": [
        "Q.16) Mr. Vincent works in a door mat manufacturing company. One day, he designed a new door mat with the following specifications:\n",
        "\n",
        "Mat size must be NXM. ( N is an odd natural number, and M is 3 times N.)\n",
        "The design should have 'WELCOME' written in the center.\n",
        "The design pattern should only use |, . and - characters."
      ],
      "metadata": {
        "id": "zO6e4vgQi4GG"
      }
    },
    {
      "cell_type": "code",
      "source": [
        "n,m = input().split()\n",
        "n = int(n)\n",
        "m = int(m)\n",
        "#printing first half\n",
        "for i in range(n//2):\n",
        "    t = int((2*i)+1)\n",
        "    print(('.|.'*t).center(m, '-'))\n",
        "#printing middle line\n",
        "print('WELCOME'.center(m,'-'))\n",
        "#printing last half\n",
        "for i in reversed(range(n//2)):\n",
        "    t = int((2*i)+1)\n",
        "    print(('.|.'*t).center(m, '-'))\n"
      ],
      "metadata": {
        "id": "F9St50cdjbFq"
      },
      "execution_count": null,
      "outputs": []
    },
    {
      "cell_type": "markdown",
      "source": [
        "Q.17) Given an integer,n , print the following values for each integer  from 1 to n:\n",
        "\n",
        "Decimal\n",
        "Octal\n",
        "Hexadecimal (capitalized)\n",
        "Binary\n",
        "Function Description\n",
        "\n",
        "Complete the print_formatted function in the editor below.\n",
        "\n",
        "print_formatted has the following parameters:\n",
        "\n",
        "int number: the maximum value to print\n",
        "Prints\n",
        "\n",
        "The four values must be printed on a single line in the order specified above for each i from 1 to number. Each value should be space-padded to match the width of the binary value of number and the values should be separated by a single space."
      ],
      "metadata": {
        "id": "dWJO8w49jhvo"
      }
    },
    {
      "cell_type": "code",
      "source": [
        "def print_formatted(number):\n",
        "\n",
        "    width = len(\"{0:b}\".format(number)) + 1\n",
        "\n",
        "    for i in xrange(1, number + 1):\n",
        "        print \"{0:d}\".format(i).rjust(width - 1) + \"{0:o}\".format(i).rjust(width) + \"{0:X}\".format(i).rjust(width) + \"{0:b}\".format(i).rjust(width) \n",
        "\n",
        "\n",
        "if __name__ == '__main__':\n",
        "    n = int(raw_input())\n",
        "    print_formatted(n)"
      ],
      "metadata": {
        "id": "YY-dmmzYkHpV"
      },
      "execution_count": null,
      "outputs": []
    },
    {
      "cell_type": "markdown",
      "source": [
        "Q.18) You are given an integer, N. Your task is to print an alphabet rangoli of size N. (Rangoli is a form of Indian folk art based on creation of patterns.)\n",
        "The center of the rangoli has the first alphabet letter a, and the boundary has the  alphabet letter (in alphabetical order)."
      ],
      "metadata": {
        "id": "YqRDSbBpkQtS"
      }
    },
    {
      "cell_type": "code",
      "source": [
        "def print_rangoli(size):\n",
        "    import string\n",
        "    alpha = string.ascii_lowercase\n",
        "\n",
        "    L = []\n",
        "    for i in range(n):\n",
        "        s = \"-\".join(alpha[i:n])\n",
        "        L.append((s[::-1]+s[1:]).center(4*n-3, \"-\"))\n",
        "        \n",
        "    print('\\n'.join(L[:0:-1]+L))\n",
        "\n",
        "\n",
        "if __name__ == '__main__':\n",
        "    n = int(raw_input())\n",
        "    print_rangoli(n)"
      ],
      "metadata": {
        "id": "tp1sm8W7kucY"
      },
      "execution_count": null,
      "outputs": []
    },
    {
      "cell_type": "markdown",
      "source": [
        "Q.19) You are asked to ensure that the first and last names of people begin with a capital letter in their passports. For example, alison heck should be capitalised correctly as Alison Heck.\n",
        "\n",
        "\n",
        "Given a full name, your task is to capitalize the name appropriately."
      ],
      "metadata": {
        "id": "WW_bVTzTk0gC"
      }
    },
    {
      "cell_type": "code",
      "source": [
        "def solve(s):\n",
        "    for i in s.split():\n",
        "        s = s.replace(i,i.capitalize())\n",
        "    return s\n",
        "\n",
        "if __name__ == '__main__':\n",
        "    fptr = open(os.environ['OUTPUT_PATH'], 'w')\n",
        "\n",
        "    s = raw_input()\n",
        "\n",
        "    result = solve(s)\n",
        "\n",
        "    fptr.write(result + '\\n')\n",
        "\n",
        "    fptr.close()\n"
      ],
      "metadata": {
        "id": "bie2VFJ2lACW"
      },
      "execution_count": null,
      "outputs": []
    },
    {
      "cell_type": "markdown",
      "source": [
        "Q.20) A set is an unordered collection of elements without duplicate entries.\n",
        "When printed, iterated or converted into a sequence, its elements will appear in an arbitrary order.Now, let's use our knowledge of sets and help Mickey.\n",
        "\n",
        "Ms. Gabriel Williams is a botany professor at District College. One day, she asked her student Mickey to compute the average of all the plants with distinct heights in her greenhouse."
      ],
      "metadata": {
        "id": "fBoCep6slFQn"
      }
    },
    {
      "cell_type": "code",
      "source": [
        "def average(array):\n",
        "    return sum(set(array))/len(set(array))\n",
        "if __name__ == '__main__':\n",
        "    n = int(input())\n",
        "    arr = list(map(int, input().split()))\n",
        "    result = average(arr)\n",
        "    print(result)"
      ],
      "metadata": {
        "id": "szMOYzQsmW0y"
      },
      "execution_count": null,
      "outputs": []
    },
    {
      "cell_type": "markdown",
      "source": [
        "Q.21) Given 2 sets of integers, M and N, print their symmetric difference in ascending order. The term symmetric difference indicates those values that exist in either M or N but do not exist in both.\n"
      ],
      "metadata": {
        "id": "hqvTo7CQlm4H"
      }
    },
    {
      "cell_type": "code",
      "source": [
        "M = int(input())\n",
        "mset = set(map(int, input().split()))\n",
        "N =int(input())\n",
        "nset = set(map(int, input().split()))\n",
        "mdef = mset.difference(nset)\n",
        "ndef = nset.difference(mset)\n",
        "output = mdef.union(ndef)\n",
        "for i in sorted(list(output)):\n",
        "    print(i)"
      ],
      "metadata": {
        "id": "MS9pJbXXmEd1"
      },
      "execution_count": null,
      "outputs": []
    },
    {
      "cell_type": "markdown",
      "source": [
        "Q.22) Apply your knowledge of the .add() operation to help your friend Rupal.\n",
        "\n",
        "Rupal has a huge collection of country stamps. She decided to count the total number of distinct country stamps in her collection. She asked for your help. You pick the stamps one by one from a stack of N country stamps.\n",
        "\n",
        "Find the total number of distinct country stamps."
      ],
      "metadata": {
        "id": "cvWtoHJumJ-7"
      }
    },
    {
      "cell_type": "code",
      "source": [
        "n=int(input())\n",
        "set1=set()\n",
        "for i in range(n):\n",
        "    set1.add(input())\n",
        "print(len(set1))\n"
      ],
      "metadata": {
        "id": "bRE-oDOTlnn5"
      },
      "execution_count": null,
      "outputs": []
    },
    {
      "cell_type": "markdown",
      "source": [
        "Q.23) You have a non-empty set s, and you have to execute N commands given in N lines.\n",
        "\n",
        "The commands will be pop, remove and discard."
      ],
      "metadata": {
        "id": "vuZGLzSTmuJ0"
      }
    },
    {
      "cell_type": "code",
      "source": [
        "n = int(input())\n",
        "s = set(map(int, input().split()))\n",
        "for i in range(int(input())):\n",
        "    inp = input()\n",
        "    if inp == \"pop\":\n",
        "        s.pop()\n",
        "    else:\n",
        "        command , value = inp.split()\n",
        "        if command == \"discard\":\n",
        "            s.discard(int(value))\n",
        "        else:\n",
        "            s.remove(int(value))\n",
        "print(sum(s))\n"
      ],
      "metadata": {
        "id": "jbPsKiadnfpd"
      },
      "execution_count": null,
      "outputs": []
    }
  ]
}