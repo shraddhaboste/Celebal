{
  "nbformat": 4,
  "nbformat_minor": 0,
  "metadata": {
    "colab": {
      "name": "Week3_assignment(2).ipynb",
      "provenance": [],
      "authorship_tag": "ABX9TyM+x34cyUwpYCyZdU7kePsA",
      "include_colab_link": true
    },
    "kernelspec": {
      "name": "python3",
      "display_name": "Python 3"
    },
    "language_info": {
      "name": "python"
    }
  },
  "cells": [
    {
      "cell_type": "markdown",
      "metadata": {
        "id": "view-in-github",
        "colab_type": "text"
      },
      "source": [
        "<a href=\"https://colab.research.google.com/github/shraddhaboste/Celebal/blob/main/Week3_assignment(2).ipynb\" target=\"_parent\"><img src=\"https://colab.research.google.com/assets/colab-badge.svg\" alt=\"Open In Colab\"/></a>"
      ]
    },
    {
      "cell_type": "code",
      "execution_count": null,
      "metadata": {
        "id": "MIGfSPnETLfP"
      },
      "outputs": [],
      "source": [
        ""
      ]
    },
    {
      "cell_type": "markdown",
      "source": [
        "List->\n",
        "\n",
        "creating a list:"
      ],
      "metadata": {
        "id": "MphYNYiQTfys"
      }
    },
    {
      "cell_type": "code",
      "source": [
        "#int\n",
        "l1=[1,2,3,4,5,6]\n",
        "#string\n",
        "l2=[\"apple\",\"mango\",\"orange\"]\n",
        "print(\"Integer list:\",l1)\n",
        "print(\"String list:\",l2)"
      ],
      "metadata": {
        "colab": {
          "base_uri": "https://localhost:8080/"
        },
        "id": "lXge9y72ntrJ",
        "outputId": "aedc2d02-7b65-4da7-eae3-1754929c02d6"
      },
      "execution_count": 1,
      "outputs": [
        {
          "output_type": "stream",
          "name": "stdout",
          "text": [
            "Integer list: [1, 2, 3, 4, 5, 6]\n",
            "String list: ['apple', 'mango', 'orange']\n"
          ]
        }
      ]
    },
    {
      "cell_type": "markdown",
      "source": [
        "Duplicate value in string:"
      ],
      "metadata": {
        "id": "xMGRTbhvoOub"
      }
    },
    {
      "cell_type": "code",
      "source": [
        "l1=[1,2,3,4,5,1,2,3]\n",
        "print(\"Duplicate value:\",l1)"
      ],
      "metadata": {
        "colab": {
          "base_uri": "https://localhost:8080/"
        },
        "id": "WoVKGKWGoXBQ",
        "outputId": "3b3beaaa-2c4c-45fc-bcdc-1736932f26f4"
      },
      "execution_count": 2,
      "outputs": [
        {
          "output_type": "stream",
          "name": "stdout",
          "text": [
            "Duplicate value: [1, 2, 3, 4, 5, 1, 2, 3]\n"
          ]
        }
      ]
    },
    {
      "cell_type": "markdown",
      "source": [
        "List slicing:"
      ],
      "metadata": {
        "id": "eFd2syDioism"
      }
    },
    {
      "cell_type": "code",
      "source": [
        "l1=[1,2,3,4,5,6,7,8,9,10]\n",
        "print(\"current list:\",l1)\n",
        "#access value of index 1\n",
        "print(\"index 1 value:\",l1[1])\n",
        "#access value between 1 to 6\n",
        "print(\"index between 1 to 6:\",l1[1:6])\n",
        "#access value till index 6\n",
        "print(\"index till 6:\",l1[:6])\n",
        "#access last value from list\n",
        "print(\"last value:\",l1[-1])"
      ],
      "metadata": {
        "id": "OUZpMUxComHF"
      },
      "execution_count": null,
      "outputs": []
    },
    {
      "cell_type": "markdown",
      "source": [
        "Change list item:"
      ],
      "metadata": {
        "id": "yjWclHbZpu6p"
      }
    },
    {
      "cell_type": "code",
      "source": [
        "x=[\"apple\",\"banana\",\"cherry\",\"mango\",\"orange\"]\n",
        "print(\"current list\",x)\n",
        "#change item in list\n",
        "x[1:3]=[\"grapes\",\"watermelon\"]\n",
        "print(\"updated list:\",x)"
      ],
      "metadata": {
        "id": "A9bZEr4GpyJZ"
      },
      "execution_count": null,
      "outputs": []
    },
    {
      "cell_type": "markdown",
      "source": [
        "Tuple->\n",
        "\n",
        "creating a tuple"
      ],
      "metadata": {
        "id": "3LuxNvDvqTss"
      }
    },
    {
      "cell_type": "code",
      "source": [
        "t1=(\"apple\",\"orange\",1,2,3,4,5,6,10.5,5,12.4)\n",
        "print(\"current list:\",t1)"
      ],
      "metadata": {
        "id": "Tt3X6i91qXwM"
      },
      "execution_count": null,
      "outputs": []
    },
    {
      "cell_type": "markdown",
      "source": [
        "How to check length of tuple"
      ],
      "metadata": {
        "id": "i5LP_2cEqpVE"
      }
    },
    {
      "cell_type": "code",
      "source": [
        "t2=(1,2,3,4,5,6,7)\n",
        "print(len(t2))"
      ],
      "metadata": {
        "id": "BVVVH3yorp0J"
      },
      "execution_count": null,
      "outputs": []
    },
    {
      "cell_type": "markdown",
      "source": [
        "Slicing"
      ],
      "metadata": {
        "id": "3Av6ShN5r1CV"
      }
    },
    {
      "cell_type": "code",
      "source": [
        "#access value using index\n",
        "t1=(\"apple\",\"orange\",1,2,3,4,5,6,10.5,5,12.4)\n",
        "print(\"current tuple:\",t1)\n",
        "print(\"index 1 value:\"t1[1])\n",
        "#access value between 1 to 6\n",
        "print(\"index between 1 to 6:\",t1[1:6])\n",
        "#access last value from list\n",
        "print(\"last value:\",t1[-1])\n",
        "#access value till index 6\n",
        "print(\"index till 6:\",t1[:6])"
      ],
      "metadata": {
        "id": "pr1hiDG8r4X2"
      },
      "execution_count": null,
      "outputs": []
    },
    {
      "cell_type": "markdown",
      "source": [
        "convert tuple into list"
      ],
      "metadata": {
        "id": "NeJMIpo8ss-z"
      }
    },
    {
      "cell_type": "code",
      "source": [
        "t1=(\"apple\",\"orange\",1,2,3,4,5,6,10.5,5,12.4)\n",
        "print(\"current tuple:\",t1) #before change\n",
        "x=list(t1)\n",
        "print(\"after convert:\",x) #after change\n"
      ],
      "metadata": {
        "id": "KgJ4C9DHs0-X"
      },
      "execution_count": null,
      "outputs": []
    },
    {
      "cell_type": "markdown",
      "source": [
        "Loop with tuple\n"
      ],
      "metadata": {
        "id": "A9VAa8yAtVV9"
      }
    },
    {
      "cell_type": "code",
      "source": [
        "t1=(\"apple\",\"banana\",\"cherry\",\"mango\",\"orange\")\n",
        "for i in t1:\n",
        "  print(i)"
      ],
      "metadata": {
        "colab": {
          "base_uri": "https://localhost:8080/"
        },
        "id": "eaUAsGKPtlI2",
        "outputId": "535b7525-0738-49ae-a677-b962bb175c9a"
      },
      "execution_count": 3,
      "outputs": [
        {
          "output_type": "stream",
          "name": "stdout",
          "text": [
            "apple\n",
            "banana\n",
            "cherry\n",
            "mango\n",
            "orange\n"
          ]
        }
      ]
    },
    {
      "cell_type": "markdown",
      "source": [
        "Dictionary->\n",
        "\n",
        "creating a dictionary->\n"
      ],
      "metadata": {
        "id": "42S8WIkotvuo"
      }
    },
    {
      "cell_type": "code",
      "source": [
        "d1={1:\"apple\",2:\"mango\",3:\"orange\",4:\"apple\"}"
      ],
      "metadata": {
        "id": "pp2fz19JuSPe"
      },
      "execution_count": null,
      "outputs": []
    },
    {
      "cell_type": "markdown",
      "source": [
        "Access value of dictionary"
      ],
      "metadata": {
        "id": "98crJ_iMuXSE"
      }
    },
    {
      "cell_type": "code",
      "source": [
        "d1={1:\"apple\",2:\"mango\",3:\"orange\",4:\"apple\"}\n",
        "print(\"current dictionary:\",d1)"
      ],
      "metadata": {
        "id": "PuUy2ByVud3q"
      },
      "execution_count": null,
      "outputs": []
    },
    {
      "cell_type": "markdown",
      "source": [
        "Access value using key"
      ],
      "metadata": {
        "id": "abZI5YGpuyBk"
      }
    },
    {
      "cell_type": "code",
      "source": [
        "d1={1:\"apple\",2:\"mango\",3:\"orange\",4:\"cherry\"}\n",
        "x=d1[3]\n",
        "print(x)"
      ],
      "metadata": {
        "id": "r4IRR0ngu0oz"
      },
      "execution_count": null,
      "outputs": []
    },
    {
      "cell_type": "markdown",
      "source": [
        "Access value using key\n",
        "\n",
        "\n"
      ],
      "metadata": {
        "id": "0mdRMOfsu_vN"
      }
    },
    {
      "cell_type": "code",
      "source": [
        "Access value using key\n",
        "x=d1.item()\n",
        "print(x)"
      ],
      "metadata": {
        "id": "sVkby8ENvHJl"
      },
      "execution_count": null,
      "outputs": []
    },
    {
      "cell_type": "markdown",
      "source": [
        "change the value"
      ],
      "metadata": {
        "id": "uW-DZLa0vSYh"
      }
    },
    {
      "cell_type": "code",
      "source": [
        "d1={1:\"apple\",2:\"mango\",3:\"orange\",4:\"cherry\"}\n",
        "d1[3]=\"kiwi\"\n",
        "print(\"updated dict:\",d1)"
      ],
      "metadata": {
        "id": "4r4HqzoLvUH8"
      },
      "execution_count": null,
      "outputs": []
    },
    {
      "cell_type": "markdown",
      "source": [
        "set->\n",
        "\n",
        "create a set"
      ],
      "metadata": {
        "id": "BY-FcBWmvmUV"
      }
    },
    {
      "cell_type": "code",
      "source": [
        "s1 = {\"apple\", \"banana\", \"cherry\"}\n",
        "print(s1))\n"
      ],
      "metadata": {
        "id": "YyuR2p-uv-b6"
      },
      "execution_count": null,
      "outputs": []
    },
    {
      "cell_type": "markdown",
      "source": [
        "Duplicate values will be ignored"
      ],
      "metadata": {
        "id": "rZDOaNu5wDUw"
      }
    },
    {
      "cell_type": "code",
      "source": [
        "s1 = {\"apple\", \"banana\", \"cherry\", \"apple\"}\n",
        "\n",
        "print(s1)\n"
      ],
      "metadata": {
        "id": "5Q2-yQVgwHnr"
      },
      "execution_count": null,
      "outputs": []
    },
    {
      "cell_type": "markdown",
      "source": [
        "Get the number of items in a set"
      ],
      "metadata": {
        "id": "BVkRdBj9wNAR"
      }
    },
    {
      "cell_type": "code",
      "source": [
        "s1 = {\"apple\", \"banana\", \"cherry\"}\n",
        "\n",
        "print(len(s1))\n"
      ],
      "metadata": {
        "id": "0kBGGOOqwQZ_"
      },
      "execution_count": null,
      "outputs": []
    },
    {
      "cell_type": "markdown",
      "source": [
        "data type of a set"
      ],
      "metadata": {
        "id": "8G7NN6v5wZcy"
      }
    },
    {
      "cell_type": "code",
      "source": [
        "s1 = {\"apple\", \"banana\", \"cherry\"}\n",
        "print(type(s1))"
      ],
      "metadata": {
        "id": "Zcw65gDWwfCD"
      },
      "execution_count": null,
      "outputs": []
    },
    {
      "cell_type": "markdown",
      "source": [
        "Loop through the set"
      ],
      "metadata": {
        "id": "P9RKiybhwh5f"
      }
    },
    {
      "cell_type": "code",
      "source": [
        "s1 = {\"apple\", \"banana\", \"cherry\"}\n",
        "\n",
        "for x in s1:\n",
        "  print(x)"
      ],
      "metadata": {
        "id": "MrAEFTCZwt8O"
      },
      "execution_count": null,
      "outputs": []
    },
    {
      "cell_type": "markdown",
      "source": [
        "Membership operator->\n",
        "\n",
        "In operator:"
      ],
      "metadata": {
        "id": "t3vHbTQRxAH1"
      }
    },
    {
      "cell_type": "code",
      "source": [
        "\n",
        "list1=[1,2,3,4,5] \n",
        "list2=[6,7,8,9] \n",
        "for item in list1: \n",
        "    if item in list2: \n",
        "        print(\"overlapping\")     \n",
        "else: \n",
        "    print(\"not overlapping\")"
      ],
      "metadata": {
        "id": "bJo1IrmCxPjk"
      },
      "execution_count": null,
      "outputs": []
    },
    {
      "cell_type": "markdown",
      "source": [
        "Not In Operator:"
      ],
      "metadata": {
        "id": "0uYqHFJMxUbz"
      }
    },
    {
      "cell_type": "code",
      "source": [
        "x = 24\n",
        "y = 20\n",
        "list = [10, 20, 30, 40, 50 ]; \n",
        " \n",
        "if ( x not in list ): \n",
        " print (\"x is NOT present in given list\")\n",
        "else: \n",
        "print (\"x is present in given list\")\n",
        " \n",
        "if ( y in list ): \n",
        " print (\"y is present in given list\")\n",
        "else: \n",
        " print (\"y is NOT present in given list\")"
      ],
      "metadata": {
        "id": "rntFaIelxZXk"
      },
      "execution_count": null,
      "outputs": []
    },
    {
      "cell_type": "markdown",
      "source": [
        "Built-in function:\n"
      ],
      "metadata": {
        "id": "8WSl6xCoxnUB"
      }
    },
    {
      "cell_type": "code",
      "source": [
        "#print()\n",
        "print(\"Hello Python\")"
      ],
      "metadata": {
        "id": "pSutrOEezJ4Q"
      },
      "execution_count": null,
      "outputs": []
    },
    {
      "cell_type": "code",
      "source": [
        "#type()\n",
        "a = ('apple', 'banana', 'cherry')\n",
        "b = \"Hello World\"\n",
        "c = 33\n",
        "\n",
        "x = type(a)\n",
        "y = type(b)\n",
        "z = type(c)\n",
        "print(\"output 1\",x)\n",
        "print(\"output 2\",y)\n",
        "print(\"output 3\",z)"
      ],
      "metadata": {
        "colab": {
          "base_uri": "https://localhost:8080/"
        },
        "id": "2NENw2ZDzNTL",
        "outputId": "68c520cf-32bc-4ba5-a719-89e3b336865b"
      },
      "execution_count": 10,
      "outputs": [
        {
          "output_type": "stream",
          "name": "stdout",
          "text": [
            "output 1 <class 'tuple'>\n",
            "output 2 <class 'str'>\n",
            "output 3 <class 'int'>\n"
          ]
        }
      ]
    },
    {
      "cell_type": "code",
      "source": [
        "#input()\n",
        "x = input('Enter your name:')\n",
        "print('Hello, ' + x)"
      ],
      "metadata": {
        "id": "fx2bmt9bxqZv"
      },
      "execution_count": null,
      "outputs": []
    },
    {
      "cell_type": "code",
      "source": [
        "#abs()\n",
        "x = abs(-7.25)\n",
        "print(\"output\",x)"
      ],
      "metadata": {
        "colab": {
          "base_uri": "https://localhost:8080/"
        },
        "id": "o3ygyJI1zW79",
        "outputId": "07f0e3d9-118b-4371-f740-a0462a8886b9"
      },
      "execution_count": 9,
      "outputs": [
        {
          "output_type": "stream",
          "name": "stdout",
          "text": [
            "output 7.25\n"
          ]
        }
      ]
    },
    {
      "cell_type": "code",
      "source": [
        "#any\n",
        "s1 = [False, True, False]\n",
        "x = any(s1)\n",
        "print(\"output\",x)"
      ],
      "metadata": {
        "colab": {
          "base_uri": "https://localhost:8080/"
        },
        "id": "oV3Qzv4MzXHw",
        "outputId": "e6a926bc-41ec-467a-d8fe-87f56082417c"
      },
      "execution_count": 8,
      "outputs": [
        {
          "output_type": "stream",
          "name": "stdout",
          "text": [
            "output True\n"
          ]
        }
      ]
    },
    {
      "cell_type": "code",
      "source": [
        "#all\n",
        "s1 = [True, True, True]\n",
        "x = all(s1)\n",
        "print(\"output\",x)"
      ],
      "metadata": {
        "colab": {
          "base_uri": "https://localhost:8080/"
        },
        "id": "W5wuUEhlzXVi",
        "outputId": "a0edbb0f-2245-4a28-e47c-6c5164160929"
      },
      "execution_count": 7,
      "outputs": [
        {
          "output_type": "stream",
          "name": "stdout",
          "text": [
            "output True\n"
          ]
        }
      ]
    }
  ]
}